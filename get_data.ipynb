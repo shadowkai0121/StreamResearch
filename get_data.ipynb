{
 "cells": [
  {
   "cell_type": "code",
   "execution_count": 1,
   "metadata": {},
   "outputs": [
    {
     "name": "stdout",
     "output_type": "stream",
     "text": [
      "Note: you may need to restart the kernel to use updated packages.\n"
     ]
    }
   ],
   "source": [
    "%pip install -q ipywidgets"
   ]
  },
  {
   "cell_type": "code",
   "execution_count": 6,
   "metadata": {},
   "outputs": [
    {
     "name": "stderr",
     "output_type": "stream",
     "text": [
      "Some weights of the model checkpoint at cardiffnlp/twitter-roberta-base-sentiment-latest were not used when initializing RobertaForSequenceClassification: ['roberta.pooler.dense.bias', 'roberta.pooler.dense.weight']\n",
      "- This IS expected if you are initializing RobertaForSequenceClassification from the checkpoint of a model trained on another task or with another architecture (e.g. initializing a BertForSequenceClassification model from a BertForPreTraining model).\n",
      "- This IS NOT expected if you are initializing RobertaForSequenceClassification from the checkpoint of a model that you expect to be exactly identical (initializing a BertForSequenceClassification model from a BertForSequenceClassification model).\n"
     ]
    }
   ],
   "source": [
    "import warnings\n",
    "warnings.filterwarnings(\"ignore\", category=FutureWarning)\n",
    "\n",
    "import os\n",
    "from sklearn.feature_extraction.text import CountVectorizer\n",
    "from wordcloud import WordCloud\n",
    "import pandas as pd\n",
    "import numpy as np\n",
    "import matplotlib.pyplot as plt\n",
    "import seaborn as sns\n",
    "import regex as re\n",
    "import math\n",
    "import json\n",
    "import csv\n",
    "\n",
    "from stream_analysis.env_ import Env_\n",
    "from stream_analysis.chat import Chat\n",
    "from stream_analysis.summary import Summary\n",
    "from stream_analysis.utils import minutes_to_hhmm, get_secure_dict\n",
    "%matplotlib inline"
   ]
  },
  {
   "cell_type": "code",
   "execution_count": 8,
   "metadata": {},
   "outputs": [],
   "source": [
    "video_url = 'https://www.youtube.com/live/xnmCKuqoxAM?si=omeWA4mGB7WoSqkP'\n",
    "chunk_size = 1000"
   ]
  },
  {
   "cell_type": "code",
   "execution_count": 3,
   "metadata": {},
   "outputs": [],
   "source": [
    "from chat_downloader import ChatDownloader\n",
    "\n",
    "downloader = ChatDownloader()"
   ]
  },
  {
   "cell_type": "code",
   "execution_count": 9,
   "metadata": {},
   "outputs": [
    {
     "data": {
      "text/plain": [
       "{'title': 'a little surprise!',\n",
       " 'author': 'Mori Calliope Ch. hololive-EN',\n",
       " 'author_id': 'UCL_qhgtOy0dy1Agp8vkySQg',\n",
       " 'original_video_id': 'xnmCKuqoxAM',\n",
       " 'video_type': 'video',\n",
       " 'start_time': 1727853376000000.0,\n",
       " 'end_time': 1727857886000000.0,\n",
       " 'duration': 4517.0,\n",
       " 'continuation_info': {'Top chat replay': 'op2w0wRsGl5DaWtxSndvWVZVTk1YM0ZvWjNSUGVUQmtlVEZCWjNBNGRtdDVVMUZuRWd0NGJtMURTM1Z4YjNoQlRSb1Q2cWpkdVFFTkNndDRibTFEUzNWeGIzaEJUU0FCTUFBJTNEQAFyCAgEGAEgACgB',\n",
       "  'Live chat replay': 'op2w0wRsGl5DaWtxSndvWVZVTk1YM0ZvWjNSUGVUQmtlVEZCWjNBNGRtdDVVMUZuRWd0NGJtMURTM1Z4YjNoQlRSb1Q2cWpkdVFFTkNndDRibTFEUzNWeGIzaEJUU0FCTUFBJTNEQAFyCAgBGAEgACgB'},\n",
       " 'status': 'past'}"
      ]
     },
     "execution_count": 9,
     "metadata": {},
     "output_type": "execute_result"
    }
   ],
   "source": [
    "import json\n",
    "env = Env_(video_url)\n",
    "# chat = downloader.get_chat(env.video_live_url, message_groups=['superchat', 'messages'])\n",
    "chat = downloader.get_chat(env.video_live_url)\n",
    "with open('video_data.json', 'w', encoding='utf8') as f:\n",
    "    json.dump(env.video_data, f, indent=2)\n",
    "env.video_data\n"
   ]
  },
  {
   "cell_type": "code",
   "execution_count": 59,
   "metadata": {},
   "outputs": [],
   "source": [
    "all_keys = set()\n",
    "chat = downloader.get_chat(env.video_live_url)\n",
    "for message in chat:\n",
    "    all_keys.update(message.keys())\n",
    "\n",
    "all_keys = list(all_keys)"
   ]
  },
  {
   "cell_type": "code",
   "execution_count": 7,
   "metadata": {},
   "outputs": [
    {
     "data": {
      "text/plain": [
       "['message',\n",
       " 'message_type',\n",
       " 'emotes',\n",
       " 'time_in_seconds',\n",
       " 'timestamp',\n",
       " 'author',\n",
       " 'time_text',\n",
       " 'action_type',\n",
       " 'message_id']"
      ]
     },
     "execution_count": 7,
     "metadata": {},
     "output_type": "execute_result"
    }
   ],
   "source": [
    "all_keys"
   ]
  },
  {
   "cell_type": "code",
   "execution_count": 60,
   "metadata": {},
   "outputs": [],
   "source": [
    "emotes = {}\n",
    "with open('raw.csv', mode='w', newline='', encoding='utf-8') as f:\n",
    "    writer = csv.DictWriter(f, fieldnames=all_keys)\n",
    "    \n",
    "    writer.writeheader()\n",
    "    \n",
    "    chat = downloader.get_chat(env.video_live_url)\n",
    "\n",
    "    for message in chat:\n",
    "        if message.get('emotes'):\n",
    "            emotes[message.get('emotes')[0]['name']] = message.get('emotes')\n",
    "        row = {key: message.get(key, '') for key in all_keys}\n",
    "        writer.writerow(row)\n"
   ]
  },
  {
   "cell_type": "code",
   "execution_count": 61,
   "metadata": {},
   "outputs": [],
   "source": [
    "with open('emotes.json', 'w', encoding='utf8') as f:\n",
    "    json.dump(emotes, f, indent=2, ensure_ascii=False)"
   ]
  },
  {
   "cell_type": "code",
   "execution_count": 72,
   "metadata": {},
   "outputs": [],
   "source": [
    "try:\n",
    "    import sys\n",
    "    del sys.modules['stream_analysis.types.chat']\n",
    "except Exception:\n",
    "    pass\n",
    "\n",
    "from stream_analysis.types.chat import ChatItem\n",
    "\n",
    "df_raw = pd.DataFrame()\n",
    "\n",
    "chat = downloader.get_chat(env.video_live_url)\n",
    "for chat_item in chat:\n",
    "    chat_item = ChatItem(chat_item, env)\n",
    "    df = pd.concat([df, pd.DataFrame([chat_item])], ignore_index=True)\n",
    "df_raw"
   ]
  },
  {
   "cell_type": "code",
   "execution_count": 13,
   "metadata": {},
   "outputs": [
    {
     "data": {
      "text/html": [
       "<div>\n",
       "<style scoped>\n",
       "    .dataframe tbody tr th:only-of-type {\n",
       "        vertical-align: middle;\n",
       "    }\n",
       "\n",
       "    .dataframe tbody tr th {\n",
       "        vertical-align: top;\n",
       "    }\n",
       "\n",
       "    .dataframe thead th {\n",
       "        text-align: right;\n",
       "    }\n",
       "</style>\n",
       "<table border=\"1\" class=\"dataframe\">\n",
       "  <thead>\n",
       "    <tr style=\"text-align: right;\">\n",
       "      <th></th>\n",
       "      <th>message</th>\n",
       "      <th>message_type</th>\n",
       "      <th>emotes</th>\n",
       "      <th>time_in_seconds</th>\n",
       "      <th>timestamp</th>\n",
       "      <th>author</th>\n",
       "      <th>time_text</th>\n",
       "      <th>action_type</th>\n",
       "      <th>message_id</th>\n",
       "    </tr>\n",
       "  </thead>\n",
       "  <tbody>\n",
       "    <tr>\n",
       "      <th>0</th>\n",
       "      <td>:_deadbeats::_deadbeats::_deadbeats::_deadbeats:</td>\n",
       "      <td>text_message</td>\n",
       "      <td>[{'id': 'UCL_qhgtOy0dy1Agp8vkySQg/lr5OYciWAcG3...</td>\n",
       "      <td>-20.0</td>\n",
       "      <td>1727853343217886</td>\n",
       "      <td>{'name': 'Flugmorph', 'images': [{'url': 'http...</td>\n",
       "      <td>-0:20</td>\n",
       "      <td>add_chat_item</td>\n",
       "      <td>ChwKGkNJR1FfS1dUNzRnREZSMEkxZ0FkX0pZOFdR</td>\n",
       "    </tr>\n",
       "    <tr>\n",
       "      <th>1</th>\n",
       "      <td>lmao</td>\n",
       "      <td>text_message</td>\n",
       "      <td>NaN</td>\n",
       "      <td>-19.0</td>\n",
       "      <td>1727853344811803</td>\n",
       "      <td>{'name': 'Alkanshel', 'images': [{'url': 'http...</td>\n",
       "      <td>-0:19</td>\n",
       "      <td>add_chat_item</td>\n",
       "      <td>ChwKGkNMckIzYWFUNzRnREZkd3VyUVlkQm1nS253</td>\n",
       "    </tr>\n",
       "    <tr>\n",
       "      <th>2</th>\n",
       "      <td>ikzzzzzzzzzzzzz</td>\n",
       "      <td>text_message</td>\n",
       "      <td>NaN</td>\n",
       "      <td>-17.0</td>\n",
       "      <td>1727853346449862</td>\n",
       "      <td>{'name': 'steren steven', 'images': [{'url': '...</td>\n",
       "      <td>-0:17</td>\n",
       "      <td>add_chat_item</td>\n",
       "      <td>ChwKGkNPeWN3YWVUNzRnREZWZ3FyUVlkOFFnd3NB</td>\n",
       "    </tr>\n",
       "    <tr>\n",
       "      <th>3</th>\n",
       "      <td>:face-red-heart-shape:</td>\n",
       "      <td>text_message</td>\n",
       "      <td>[{'id': 'UCkszU2WH9gy1mb0dV-11UJg/m8MfY4jbFsWJ...</td>\n",
       "      <td>-17.0</td>\n",
       "      <td>1727853346474954</td>\n",
       "      <td>{'name': 'Harmony', 'images': [{'url': 'https:...</td>\n",
       "      <td>-0:17</td>\n",
       "      <td>add_chat_item</td>\n",
       "      <td>ChwKGkNOQ0l3NmVUNzRnREZXb3YxZ0FkUEQwZDJB</td>\n",
       "    </tr>\n",
       "    <tr>\n",
       "      <th>4</th>\n",
       "      <td>Thanks Biv</td>\n",
       "      <td>text_message</td>\n",
       "      <td>NaN</td>\n",
       "      <td>-16.0</td>\n",
       "      <td>1727853347241507</td>\n",
       "      <td>{'name': 'Rave', 'images': [{'url': 'https://y...</td>\n",
       "      <td>-0:16</td>\n",
       "      <td>add_chat_item</td>\n",
       "      <td>ChwKGkNPdnI4YWVUNzRnREZVUFFsQWtkQVBFTEJR</td>\n",
       "    </tr>\n",
       "  </tbody>\n",
       "</table>\n",
       "</div>"
      ],
      "text/plain": [
       "                                            message  message_type  \\\n",
       "0  :_deadbeats::_deadbeats::_deadbeats::_deadbeats:  text_message   \n",
       "1                                              lmao  text_message   \n",
       "2                                   ikzzzzzzzzzzzzz  text_message   \n",
       "3                            :face-red-heart-shape:  text_message   \n",
       "4                                       Thanks Biv   text_message   \n",
       "\n",
       "                                              emotes  time_in_seconds  \\\n",
       "0  [{'id': 'UCL_qhgtOy0dy1Agp8vkySQg/lr5OYciWAcG3...            -20.0   \n",
       "1                                                NaN            -19.0   \n",
       "2                                                NaN            -17.0   \n",
       "3  [{'id': 'UCkszU2WH9gy1mb0dV-11UJg/m8MfY4jbFsWJ...            -17.0   \n",
       "4                                                NaN            -16.0   \n",
       "\n",
       "          timestamp                                             author  \\\n",
       "0  1727853343217886  {'name': 'Flugmorph', 'images': [{'url': 'http...   \n",
       "1  1727853344811803  {'name': 'Alkanshel', 'images': [{'url': 'http...   \n",
       "2  1727853346449862  {'name': 'steren steven', 'images': [{'url': '...   \n",
       "3  1727853346474954  {'name': 'Harmony', 'images': [{'url': 'https:...   \n",
       "4  1727853347241507  {'name': 'Rave', 'images': [{'url': 'https://y...   \n",
       "\n",
       "  time_text    action_type                                message_id  \n",
       "0     -0:20  add_chat_item  ChwKGkNJR1FfS1dUNzRnREZSMEkxZ0FkX0pZOFdR  \n",
       "1     -0:19  add_chat_item  ChwKGkNMckIzYWFUNzRnREZkd3VyUVlkQm1nS253  \n",
       "2     -0:17  add_chat_item  ChwKGkNPeWN3YWVUNzRnREZWZ3FyUVlkOFFnd3NB  \n",
       "3     -0:17  add_chat_item  ChwKGkNOQ0l3NmVUNzRnREZXb3YxZ0FkUEQwZDJB  \n",
       "4     -0:16  add_chat_item  ChwKGkNPdnI4YWVUNzRnREZVUFFsQWtkQVBFTEJR  "
      ]
     },
     "execution_count": 13,
     "metadata": {},
     "output_type": "execute_result"
    }
   ],
   "source": [
    "df = pd.read_csv('raw.csv')\n",
    "df.head()"
   ]
  },
  {
   "cell_type": "code",
   "execution_count": 68,
   "metadata": {},
   "outputs": [
    {
     "data": {
      "text/plain": [
       "':eyes::eyes:'"
      ]
     },
     "metadata": {},
     "output_type": "display_data"
    },
    {
     "data": {
      "text/plain": [
       "(0.7052189707756042, 0.1158713772892952, 0.17890962958335876, 'neutral')"
      ]
     },
     "execution_count": 68,
     "metadata": {},
     "output_type": "execute_result"
    }
   ],
   "source": [
    "try:\n",
    "    import sys\n",
    "    del sys.modules['stream_analysis.types.chat']\n",
    "except Exception:\n",
    "    pass\n",
    "\n",
    "from stream_analysis.analyzer import get_sentiment\n",
    "from stream_analysis.types.chat import StrReplaced\n",
    "\n",
    "message = StrReplaced(df['message'].iloc[7])\n",
    "display(message)\n",
    "get_sentiment(message)"
   ]
  }
 ],
 "metadata": {
  "kernelspec": {
   "display_name": ".venv",
   "language": "python",
   "name": "python3"
  },
  "language_info": {
   "codemirror_mode": {
    "name": "ipython",
    "version": 3
   },
   "file_extension": ".py",
   "mimetype": "text/x-python",
   "name": "python",
   "nbconvert_exporter": "python",
   "pygments_lexer": "ipython3",
   "version": "3.12.0"
  }
 },
 "nbformat": 4,
 "nbformat_minor": 2
}
